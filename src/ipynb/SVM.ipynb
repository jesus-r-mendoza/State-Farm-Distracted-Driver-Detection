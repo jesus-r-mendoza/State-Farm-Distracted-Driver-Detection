{
 "cells": [
  {
   "cell_type": "code",
   "execution_count": 1,
   "metadata": {},
   "outputs": [],
   "source": [
    "%matplotlib inline\n",
    "import numpy as np\n",
    "import pandas as pd\n",
    "import matplotlib.pyplot as plt\n",
    "import matplotlib.image as mpimg"
   ]
  },
  {
   "cell_type": "code",
   "execution_count": 2,
   "metadata": {},
   "outputs": [
    {
     "name": "stderr",
     "output_type": "stream",
     "text": [
      "Using TensorFlow backend.\n"
     ]
    }
   ],
   "source": [
    "\n",
    "# \"Sequential\" model lets us to define a stack of neural network layers\n",
    "from keras.models import Sequential\n",
    "\n",
    "# import the \"core\" layers:\n",
    "from keras.layers import Dense, Dropout, Activation, Flatten\n",
    "\n",
    "# CNN\n",
    "from keras.layers import Convolution2D, MaxPooling2D\n",
    "\n",
    "# import some utilities to transform our data\n",
    "from keras.utils import np_utils"
   ]
  },
  {
   "cell_type": "markdown",
   "metadata": {},
   "source": [
    "#### 5 5 0 8 3 3 6 1 6 7"
   ]
  },
  {
   "cell_type": "markdown",
   "metadata": {},
   "source": [
    "\n",
    "    c0: safe driving\n",
    "    c1: texting - right\n",
    "    c2: talking on the phone - right\n",
    "    c3: texting - left\n",
    "    c4: talking on the phone - left\n",
    "    c5: operating the radio\n",
    "    c6: drinking\n",
    "    c7: reaching behind\n",
    "    c8: hair and makeup\n",
    "    c9: talking to passenger\n"
   ]
  },
  {
   "cell_type": "code",
   "execution_count": 35,
   "metadata": {},
   "outputs": [],
   "source": [
    "label=pd.read_pickle('labelsDF')"
   ]
  },
  {
   "cell_type": "code",
   "execution_count": 21,
   "metadata": {},
   "outputs": [],
   "source": [
    "df_train=pd.read_pickle('trainDF')"
   ]
  },
  {
   "cell_type": "code",
   "execution_count": 22,
   "metadata": {},
   "outputs": [],
   "source": [
    "df_test=pd.read_pickle('testDF')"
   ]
  },
  {
   "cell_type": "markdown",
   "metadata": {},
   "source": [
    "## preprocess "
   ]
  },
  {
   "cell_type": "code",
   "execution_count": 31,
   "metadata": {},
   "outputs": [],
   "source": [
    "from sklearn import preprocessing\n",
    "df_train = preprocessing.scale(df_train)\n",
    "df_test = preprocessing.scale(df_test)\n"
   ]
  },
  {
   "cell_type": "code",
   "execution_count": null,
   "metadata": {},
   "outputs": [],
   "source": []
  },
  {
   "cell_type": "code",
   "execution_count": 24,
   "metadata": {},
   "outputs": [],
   "source": [
    "# df_train = df_train.astype('float32')\n",
    "# df_test = df_train.astype('float32')\n",
    "\n",
    "# df_train /= 255\n",
    "# df_test /= 255"
   ]
  },
  {
   "cell_type": "code",
   "execution_count": 37,
   "metadata": {},
   "outputs": [],
   "source": [
    "df1 = pd.DataFrame(df_train)\n",
    "df2 = pd.DataFrame(df_test)\n"
   ]
  },
  {
   "cell_type": "code",
   "execution_count": 38,
   "metadata": {},
   "outputs": [
    {
     "name": "stdout",
     "output_type": "stream",
     "text": [
      "       0         1         2         3         4         5         6     \\\n",
      "0  1.153069  1.714711 -0.039351 -1.152462 -0.033905  1.567267  2.601045   \n",
      "1  0.106485 -0.131956 -0.053749  0.052937  0.063493 -0.055821 -0.335449   \n",
      "2  0.504843  0.145225  0.199183  0.270216  0.289065  0.182920 -0.124318   \n",
      "3 -0.542338 -0.661449 -0.634006 -0.352446 -0.373237 -0.621629 -0.829449   \n",
      "4 -1.658098 -1.491183 -1.460476 -1.032306 -1.099043 -1.500510  1.251745   \n",
      "\n",
      "       7         8         9     ...      3062      3063      3064      3065  \\\n",
      "0  1.992327  1.794865  2.473592  ...  0.210592  0.317328  0.012709 -0.123000   \n",
      "1 -0.319354 -0.263003 -0.185540  ...  3.397726 -0.545752 -0.940876 -0.271778   \n",
      "2 -0.155730 -0.037702  0.058719  ...  3.504360 -0.503245 -0.943111  0.174788   \n",
      "3 -0.769966 -0.737588 -0.688123  ... -0.706074 -0.536511 -0.073625  0.375021   \n",
      "4 -0.403421 -1.035566 -0.513349  ...  0.415188  0.426738 -0.125872 -0.659438   \n",
      "\n",
      "       3066      3067      3068      3069      3070      3071  \n",
      "0 -0.808539 -0.800542 -0.288656 -0.274973 -0.525620 -0.404639  \n",
      "1  0.358594  0.163418 -0.492647 -0.556575 -0.661054  1.506443  \n",
      "2  0.223768  0.244494 -0.437215 -0.507576 -0.643206  1.707216  \n",
      "3  0.435346 -0.078815 -0.677238 -0.733421 -0.756068 -0.774878  \n",
      "4 -1.058493 -1.120867 -0.694976 -0.662457 -0.620634 -0.623788  \n",
      "\n",
      "[5 rows x 3072 columns]\n"
     ]
    }
   ],
   "source": [
    "print(df1.head())"
   ]
  },
  {
   "cell_type": "code",
   "execution_count": 32,
   "metadata": {},
   "outputs": [
    {
     "name": "stdout",
     "output_type": "stream",
     "text": [
      "[[ 1.153069    1.7147113  -0.03935084 ... -0.2749726  -0.52562003\n",
      "  -0.40463943]\n",
      " [-1.42433103 -1.32161887 -1.32033156 ... -0.66752605 -0.74399473\n",
      "  -0.73404256]\n",
      " [-0.80532565 -0.69852684 -0.63592597 ... -0.08686234 -0.46682684\n",
      "  -0.70477741]\n",
      " ...\n",
      " [-0.2942586  -0.35849403 -0.41419008 ... -0.1978136  -0.4300811\n",
      "   0.00507273]\n",
      " [ 1.13279329  0.55353545  0.70744796 ... -0.29074232 -0.46052757\n",
      "  -0.16439293]\n",
      " [-1.18400428 -1.14798509 -1.1350717  ... -0.56727567 -0.67207806\n",
      "  -0.73744549]]\n",
      "[[-0.07489571 -0.16499661 -0.27469261 ... -0.24266365 -0.63970369\n",
      "  -0.34658888]\n",
      " [-0.41626612 -0.63874196 -0.3306116  ... -0.04101911  0.79924077\n",
      "   0.56913776]\n",
      " [-0.56947805 -0.63202897 -0.39382439 ... -0.7044518  -0.76286584\n",
      "   2.08342935]\n",
      " ...\n",
      " [ 0.19243543  0.20556048  0.20258259 ...  1.08553127  0.86944319\n",
      "  -0.00455176]\n",
      " [-0.78527785 -0.79486695 -0.78768864 ...  0.0662292  -0.69020017\n",
      "  -0.81455784]\n",
      " [-0.51952622 -0.56489906 -0.35006169 ... -0.4651374  -0.49231965\n",
      "  -0.48107166]]\n"
     ]
    }
   ],
   "source": [
    "print(df_train[0::1000])\n",
    "print(df_test[0::1000])"
   ]
  },
  {
   "cell_type": "code",
   "execution_count": 36,
   "metadata": {},
   "outputs": [
    {
     "name": "stdout",
     "output_type": "stream",
     "text": [
      "       0\n",
      "0      0\n",
      "1000   0\n",
      "2000   0\n",
      "3000   1\n",
      "4000   1\n",
      "5000   2\n",
      "6000   2\n",
      "7000   2\n",
      "8000   3\n",
      "9000   3\n",
      "10000  4\n",
      "11000  4\n",
      "12000  5\n",
      "13000  5\n",
      "14000  5\n",
      "15000  6\n",
      "16000  6\n",
      "17000  7\n",
      "18000  7\n",
      "19000  8\n",
      "20000  8\n",
      "21000  9\n",
      "22000  9\n"
     ]
    }
   ],
   "source": [
    "print(label[0::1000])"
   ]
  },
  {
   "cell_type": "markdown",
   "metadata": {},
   "source": [
    "### PCA"
   ]
  },
  {
   "cell_type": "code",
   "execution_count": 39,
   "metadata": {},
   "outputs": [
    {
     "name": "stdout",
     "output_type": "stream",
     "text": [
      "[[ 12.25515805  37.0899434   -1.54761091 ...  -1.96475233  -0.12931527\n",
      "    2.62809623]\n",
      " [ 36.39415469 -28.61280346   3.03723056 ...   0.0874474   -3.27673397\n",
      "    2.87252182]\n",
      " [ 44.91581763 -26.71313246   2.00294279 ...  -0.37330319   1.2683154\n",
      "   -0.77743607]\n",
      " ...\n",
      " [ -9.81552278  -7.90063322   5.16490997 ...  -0.47585701   1.44799214\n",
      "   -0.91023271]\n",
      " [-19.71857198   2.97982394  32.93198607 ...   0.24242392   2.01178453\n",
      "   -0.74815535]\n",
      " [ 19.40590907  40.19422652  -3.29651447 ...   0.08855302  -1.37675676\n",
      "   -0.44609629]]\n",
      "[[ -5.40587524 -16.62153053  -3.45746395 ...  -0.69248852   2.66854851\n",
      "   -3.02930022]\n",
      " [ 19.90234965  33.45898924  -2.8230275  ...  -2.65696286   0.7918877\n",
      "    1.07668044]\n",
      " [-14.88982234  -1.79709156  -1.21111466 ...   0.97478841   3.29423423\n",
      "    0.65012798]\n",
      " ...\n",
      " [-32.7074935   -0.48754584   4.34272526 ...   1.73291851  -1.6756519\n",
      "    1.37697673]\n",
      " [-19.66185571 -15.49272586  12.57077799 ...  -1.32732379   2.04818121\n",
      "   -0.40191628]\n",
      " [ 18.48043446   5.83669888  23.52508884 ...   1.36911866   2.4536782\n",
      "   -0.80731142]]\n"
     ]
    }
   ],
   "source": [
    "from sklearn.decomposition import PCA\n",
    "k = 100 # number of features after dimensionality reduction\n",
    "my_pca = PCA(n_components = k)\n",
    "# X_Train is feature matrix of training set before dimensionality reduction\n",
    "# X_Train_New is feature matrix of training set after dimensionality reduction:\n",
    "df_Train_new = my_pca.fit_transform(df_train)\n",
    "df_Test_new = my_pca.transform(df_test)\n",
    "\n",
    "print(df_Train_new)\n",
    "print(df_Test_new)"
   ]
  },
  {
   "cell_type": "markdown",
   "metadata": {},
   "source": [
    "## SVM"
   ]
  },
  {
   "cell_type": "code",
   "execution_count": 40,
   "metadata": {},
   "outputs": [],
   "source": [
    "from sklearn.svm import SVC"
   ]
  },
  {
   "cell_type": "code",
   "execution_count": 41,
   "metadata": {},
   "outputs": [
    {
     "name": "stderr",
     "output_type": "stream",
     "text": [
      "C:\\Users\\hollo\\Anaconda3\\lib\\site-packages\\sklearn\\utils\\validation.py:761: DataConversionWarning: A column-vector y was passed when a 1d array was expected. Please change the shape of y to (n_samples, ), for example using ravel().\n",
      "  y = column_or_1d(y, warn=True)\n"
     ]
    },
    {
     "data": {
      "text/plain": [
       "SVC(C=1, cache_size=200, class_weight=None, coef0=0.0,\n",
       "  decision_function_shape='ovr', degree=3, gamma=0.0005, kernel='rbf',\n",
       "  max_iter=-1, probability=False, random_state=1, shrinking=True,\n",
       "  tol=0.001, verbose=False)"
      ]
     },
     "execution_count": 41,
     "metadata": {},
     "output_type": "execute_result"
    }
   ],
   "source": [
    "clf = SVC(C=1,  kernel='rbf',  gamma=0.0005, random_state=1)\n",
    "clf.fit(df_Train_new,label)"
   ]
  },
  {
   "cell_type": "markdown",
   "metadata": {},
   "source": [
    "## prediction"
   ]
  },
  {
   "cell_type": "code",
   "execution_count": 42,
   "metadata": {},
   "outputs": [],
   "source": [
    "from sklearn.metrics import accuracy_score"
   ]
  },
  {
   "cell_type": "code",
   "execution_count": 43,
   "metadata": {},
   "outputs": [],
   "source": [
    "pred = clf.predict(df_Test_new)"
   ]
  },
  {
   "cell_type": "code",
   "execution_count": 44,
   "metadata": {},
   "outputs": [
    {
     "name": "stdout",
     "output_type": "stream",
     "text": [
      "[5 5 0 8 3 3 6 1 6 7]\n"
     ]
    }
   ],
   "source": [
    "print(pred[0:10])"
   ]
  },
  {
   "cell_type": "markdown",
   "metadata": {},
   "source": [
    "### splitting training set and getting accuracy"
   ]
  },
  {
   "cell_type": "code",
   "execution_count": 48,
   "metadata": {},
   "outputs": [],
   "source": [
    "%config IPCompleter.greedy=True\n",
    "from sklearn.neural_network import MLPClassifier\n",
    "from sklearn.model_selection import train_test_split"
   ]
  },
  {
   "cell_type": "code",
   "execution_count": 51,
   "metadata": {},
   "outputs": [],
   "source": [
    "X_train, X_test, y_train, y_test = train_test_split(df_train, label, test_size=0.25, random_state=5)"
   ]
  },
  {
   "cell_type": "code",
   "execution_count": 55,
   "metadata": {},
   "outputs": [
    {
     "name": "stdout",
     "output_type": "stream",
     "text": [
      "(16818, 3072)\n",
      "(5606, 3072)\n",
      "(16818, 1)\n",
      "(5606, 1)\n"
     ]
    }
   ],
   "source": [
    "print(X_train.shape)\n",
    "print(X_test.shape)\n",
    "print(y_train.shape)\n",
    "print(y_test.shape)"
   ]
  },
  {
   "cell_type": "code",
   "execution_count": 52,
   "metadata": {},
   "outputs": [],
   "source": [
    "k = 100 \n",
    "my_pca = PCA(n_components = k)\n",
    "# X_Train is feature matrix of training set before dimensionality reduction\n",
    "# X_Train_New is feature matrix of training set after dimensionality reduction:\n",
    "X_Train_new = my_pca.fit_transform(X_train)\n",
    "X_Test_new = my_pca.transform(X_test)"
   ]
  },
  {
   "cell_type": "code",
   "execution_count": 56,
   "metadata": {},
   "outputs": [
    {
     "name": "stdout",
     "output_type": "stream",
     "text": [
      "(16818, 100)\n",
      "(5606, 100)\n"
     ]
    }
   ],
   "source": [
    "print(X_Train_new.shape)\n",
    "print(X_Test_new.shape)"
   ]
  },
  {
   "cell_type": "code",
   "execution_count": 53,
   "metadata": {},
   "outputs": [
    {
     "name": "stderr",
     "output_type": "stream",
     "text": [
      "C:\\Users\\hollo\\Anaconda3\\lib\\site-packages\\sklearn\\utils\\validation.py:761: DataConversionWarning: A column-vector y was passed when a 1d array was expected. Please change the shape of y to (n_samples, ), for example using ravel().\n",
      "  y = column_or_1d(y, warn=True)\n"
     ]
    },
    {
     "data": {
      "text/plain": [
       "SVC(C=1, cache_size=200, class_weight=None, coef0=0.0,\n",
       "  decision_function_shape='ovr', degree=3, gamma=0.0005, kernel='rbf',\n",
       "  max_iter=-1, probability=False, random_state=1, shrinking=True,\n",
       "  tol=0.001, verbose=False)"
      ]
     },
     "execution_count": 53,
     "metadata": {},
     "output_type": "execute_result"
    }
   ],
   "source": [
    "clf2 = SVC(C=1,  kernel='rbf',  gamma=0.0005, random_state=1)\n",
    "clf2.fit(X_Train_new,y_train)"
   ]
  },
  {
   "cell_type": "code",
   "execution_count": 58,
   "metadata": {},
   "outputs": [
    {
     "name": "stdout",
     "output_type": "stream",
     "text": [
      "(5606,)\n"
     ]
    }
   ],
   "source": [
    "pred2 = clf2.predict(X_Test_new)\n",
    "print(pred2.shape)"
   ]
  },
  {
   "cell_type": "code",
   "execution_count": 59,
   "metadata": {},
   "outputs": [
    {
     "name": "stdout",
     "output_type": "stream",
     "text": [
      "0.9892971815911523\n"
     ]
    }
   ],
   "source": [
    "acc = accuracy_score(y_test,pred2)\n",
    "print(acc)"
   ]
  },
  {
   "cell_type": "code",
   "execution_count": null,
   "metadata": {},
   "outputs": [],
   "source": []
  }
 ],
 "metadata": {
  "kernelspec": {
   "display_name": "Python 3",
   "language": "python",
   "name": "python3"
  },
  "language_info": {
   "codemirror_mode": {
    "name": "ipython",
    "version": 3
   },
   "file_extension": ".py",
   "mimetype": "text/x-python",
   "name": "python",
   "nbconvert_exporter": "python",
   "pygments_lexer": "ipython3",
   "version": "3.6.8"
  }
 },
 "nbformat": 4,
 "nbformat_minor": 2
}
