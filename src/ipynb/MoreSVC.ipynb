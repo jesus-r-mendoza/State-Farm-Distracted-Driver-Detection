{
 "cells": [
  {
   "cell_type": "markdown",
   "metadata": {},
   "source": [
    "# Trying to reduce overfitting"
   ]
  },
  {
   "cell_type": "code",
   "execution_count": 1,
   "metadata": {},
   "outputs": [],
   "source": [
    "%matplotlib inline\n",
    "\n",
    "import numpy as np\n",
    "import pandas as pd\n",
    "import matplotlib.pyplot as plt\n",
    "from sklearn.utils import shuffle\n",
    "from sklearn.model_selection import cross_val_score\n",
    "from sklearn.metrics import accuracy_score\n",
    "from sklearn.preprocessing import scale\n",
    "from sklearn.model_selection import GridSearchCV\n",
    "from sklearn.decomposition import PCA\n",
    "from sklearn.svm import SVC\n",
    "from sklearn.metrics import confusion_matrix\n",
    "from sklearn.utils.multiclass import unique_labels\n",
    "from sklearn.model_selection import train_test_split\n",
    "from tqdm import tqdm"
   ]
  },
  {
   "cell_type": "markdown",
   "metadata": {},
   "source": [
    "### Importing the training / testing data from the downscaled 48 x 64 px images"
   ]
  },
  {
   "cell_type": "code",
   "execution_count": 2,
   "metadata": {},
   "outputs": [
    {
     "data": {
      "text/html": [
       "<div>\n",
       "<style scoped>\n",
       "    .dataframe tbody tr th:only-of-type {\n",
       "        vertical-align: middle;\n",
       "    }\n",
       "\n",
       "    .dataframe tbody tr th {\n",
       "        vertical-align: top;\n",
       "    }\n",
       "\n",
       "    .dataframe thead th {\n",
       "        text-align: right;\n",
       "    }\n",
       "</style>\n",
       "<table border=\"1\" class=\"dataframe\">\n",
       "  <thead>\n",
       "    <tr style=\"text-align: right;\">\n",
       "      <th></th>\n",
       "      <th>0</th>\n",
       "      <th>1</th>\n",
       "      <th>2</th>\n",
       "      <th>3</th>\n",
       "      <th>4</th>\n",
       "      <th>5</th>\n",
       "      <th>6</th>\n",
       "      <th>7</th>\n",
       "      <th>8</th>\n",
       "      <th>9</th>\n",
       "      <th>...</th>\n",
       "      <th>3063</th>\n",
       "      <th>3064</th>\n",
       "      <th>3065</th>\n",
       "      <th>3066</th>\n",
       "      <th>3067</th>\n",
       "      <th>3068</th>\n",
       "      <th>3069</th>\n",
       "      <th>3070</th>\n",
       "      <th>3071</th>\n",
       "      <th>Label</th>\n",
       "    </tr>\n",
       "  </thead>\n",
       "  <tbody>\n",
       "    <tr>\n",
       "      <th>0</th>\n",
       "      <td>59.07</td>\n",
       "      <td>83.23</td>\n",
       "      <td>44.03</td>\n",
       "      <td>11.94</td>\n",
       "      <td>41.71</td>\n",
       "      <td>82.08</td>\n",
       "      <td>124.24</td>\n",
       "      <td>117.76</td>\n",
       "      <td>102.83</td>\n",
       "      <td>109.92</td>\n",
       "      <td>...</td>\n",
       "      <td>58.16</td>\n",
       "      <td>57.54</td>\n",
       "      <td>50.35</td>\n",
       "      <td>18.03</td>\n",
       "      <td>14.44</td>\n",
       "      <td>15.16</td>\n",
       "      <td>14.97</td>\n",
       "      <td>12.08</td>\n",
       "      <td>12.92</td>\n",
       "      <td>0</td>\n",
       "    </tr>\n",
       "    <tr>\n",
       "      <th>1</th>\n",
       "      <td>41.52</td>\n",
       "      <td>42.39</td>\n",
       "      <td>43.73</td>\n",
       "      <td>43.34</td>\n",
       "      <td>44.21</td>\n",
       "      <td>44.96</td>\n",
       "      <td>45.24</td>\n",
       "      <td>45.99</td>\n",
       "      <td>46.20</td>\n",
       "      <td>47.54</td>\n",
       "      <td>...</td>\n",
       "      <td>34.81</td>\n",
       "      <td>23.41</td>\n",
       "      <td>43.96</td>\n",
       "      <td>63.65</td>\n",
       "      <td>33.82</td>\n",
       "      <td>11.48</td>\n",
       "      <td>9.97</td>\n",
       "      <td>9.50</td>\n",
       "      <td>41.00</td>\n",
       "      <td>0</td>\n",
       "    </tr>\n",
       "    <tr>\n",
       "      <th>2</th>\n",
       "      <td>48.20</td>\n",
       "      <td>48.52</td>\n",
       "      <td>49.00</td>\n",
       "      <td>49.00</td>\n",
       "      <td>50.00</td>\n",
       "      <td>50.42</td>\n",
       "      <td>50.92</td>\n",
       "      <td>51.07</td>\n",
       "      <td>52.40</td>\n",
       "      <td>53.27</td>\n",
       "      <td>...</td>\n",
       "      <td>35.96</td>\n",
       "      <td>23.33</td>\n",
       "      <td>63.14</td>\n",
       "      <td>58.38</td>\n",
       "      <td>35.45</td>\n",
       "      <td>12.48</td>\n",
       "      <td>10.84</td>\n",
       "      <td>9.84</td>\n",
       "      <td>43.95</td>\n",
       "      <td>0</td>\n",
       "    </tr>\n",
       "    <tr>\n",
       "      <th>3</th>\n",
       "      <td>30.64</td>\n",
       "      <td>30.68</td>\n",
       "      <td>31.64</td>\n",
       "      <td>32.78</td>\n",
       "      <td>33.00</td>\n",
       "      <td>32.02</td>\n",
       "      <td>31.95</td>\n",
       "      <td>32.00</td>\n",
       "      <td>33.14</td>\n",
       "      <td>35.75</td>\n",
       "      <td>...</td>\n",
       "      <td>35.06</td>\n",
       "      <td>54.45</td>\n",
       "      <td>71.74</td>\n",
       "      <td>66.65</td>\n",
       "      <td>28.95</td>\n",
       "      <td>8.15</td>\n",
       "      <td>6.83</td>\n",
       "      <td>7.69</td>\n",
       "      <td>7.48</td>\n",
       "      <td>0</td>\n",
       "    </tr>\n",
       "    <tr>\n",
       "      <th>4</th>\n",
       "      <td>11.93</td>\n",
       "      <td>12.33</td>\n",
       "      <td>14.42</td>\n",
       "      <td>15.07</td>\n",
       "      <td>14.37</td>\n",
       "      <td>11.92</td>\n",
       "      <td>87.94</td>\n",
       "      <td>43.38</td>\n",
       "      <td>24.94</td>\n",
       "      <td>39.85</td>\n",
       "      <td>...</td>\n",
       "      <td>61.12</td>\n",
       "      <td>52.58</td>\n",
       "      <td>27.31</td>\n",
       "      <td>8.26</td>\n",
       "      <td>8.00</td>\n",
       "      <td>7.83</td>\n",
       "      <td>8.09</td>\n",
       "      <td>10.27</td>\n",
       "      <td>9.70</td>\n",
       "      <td>0</td>\n",
       "    </tr>\n",
       "  </tbody>\n",
       "</table>\n",
       "<p>5 rows × 3073 columns</p>\n",
       "</div>"
      ],
      "text/plain": [
       "       0      1      2      3      4      5       6       7       8       9  \\\n",
       "0  59.07  83.23  44.03  11.94  41.71  82.08  124.24  117.76  102.83  109.92   \n",
       "1  41.52  42.39  43.73  43.34  44.21  44.96   45.24   45.99   46.20   47.54   \n",
       "2  48.20  48.52  49.00  49.00  50.00  50.42   50.92   51.07   52.40   53.27   \n",
       "3  30.64  30.68  31.64  32.78  33.00  32.02   31.95   32.00   33.14   35.75   \n",
       "4  11.93  12.33  14.42  15.07  14.37  11.92   87.94   43.38   24.94   39.85   \n",
       "\n",
       "   ...     3063   3064   3065   3066   3067   3068   3069   3070   3071  Label  \n",
       "0  ...    58.16  57.54  50.35  18.03  14.44  15.16  14.97  12.08  12.92      0  \n",
       "1  ...    34.81  23.41  43.96  63.65  33.82  11.48   9.97   9.50  41.00      0  \n",
       "2  ...    35.96  23.33  63.14  58.38  35.45  12.48  10.84   9.84  43.95      0  \n",
       "3  ...    35.06  54.45  71.74  66.65  28.95   8.15   6.83   7.69   7.48      0  \n",
       "4  ...    61.12  52.58  27.31   8.26   8.00   7.83   8.09  10.27   9.70      0  \n",
       "\n",
       "[5 rows x 3073 columns]"
      ]
     },
     "execution_count": 2,
     "metadata": {},
     "output_type": "execute_result"
    }
   ],
   "source": [
    "labels_df = pd.read_pickle('labelsDF')\n",
    "\n",
    "train_df = pd.read_pickle('trainDF')\n",
    "\n",
    "# adding the label vector\n",
    "train_df['Label'] = labels_df[0]\n",
    "\n",
    "train_df.head()"
   ]
  },
  {
   "cell_type": "markdown",
   "metadata": {},
   "source": [
    "### Analyzing if the data is balanced"
   ]
  },
  {
   "cell_type": "code",
   "execution_count": 50,
   "metadata": {},
   "outputs": [],
   "source": [
    "def count_freqs(labels):\n",
    "    lbls = {0:0, 1:0, 2:0, 3:0, 4:0, 5:0, 6:0, 7:0, 8:0, 9:0}\n",
    "    for i in labels:\n",
    "        lbls[i] += 1        \n",
    "    classes = []\n",
    "    counts = []\n",
    "    for k, v in lbls.items():\n",
    "        classes.append(k)\n",
    "        counts.append(v)\n",
    "    return classes, counts"
   ]
  },
  {
   "cell_type": "code",
   "execution_count": 51,
   "metadata": {},
   "outputs": [
    {
     "name": "stdout",
     "output_type": "stream",
     "text": [
      "(22424, 3073)\n",
      "[0, 1, 2, 3, 4, 5, 6, 7, 8, 9]\n",
      "[2489, 2267, 2317, 2346, 2326, 2312, 2325, 2002, 1911, 2129]\n"
     ]
    }
   ],
   "source": [
    "classes, counts = count_freqs(train_df['Label'])\n",
    "print(train_df.shape)\n",
    "print(classes)\n",
    "print(counts)"
   ]
  },
  {
   "cell_type": "markdown",
   "metadata": {},
   "source": [
    "#### As this pie chart shows, our image data is reasonably balanced (for the training / labeled data)"
   ]
  },
  {
   "cell_type": "code",
   "execution_count": 52,
   "metadata": {},
   "outputs": [
    {
     "data": {
      "image/png": "[encoded data removed]",
      "text/plain": [
       "<Figure size 432x288 with 1 Axes>"
      ]
     },
     "metadata": {},
     "output_type": "display_data"
    }
   ],
   "source": [
    "fig1, ax1 = plt.subplots()\n",
    "ax1.pie(counts, labels=classes, autopct='%1.1f%%', shadow=True, startangle=100)\n",
    "ax1.axis('equal')  # Equal aspect ratio ensures that pie is drawn as a circle.\n",
    "\n",
    "plt.show()"
   ]
  },
  {
   "cell_type": "markdown",
   "metadata": {},
   "source": [
    "### Now we will shuffle our training data"
   ]
  },
  {
   "cell_type": "code",
   "execution_count": 53,
   "metadata": {},
   "outputs": [
    {
     "data": {
      "text/html": [
       "<div>\n",
       "<style scoped>\n",
       "    .dataframe tbody tr th:only-of-type {\n",
       "        vertical-align: middle;\n",
       "    }\n",
       "\n",
       "    .dataframe tbody tr th {\n",
       "        vertical-align: top;\n",
       "    }\n",
       "\n",
       "    .dataframe thead th {\n",
       "        text-align: right;\n",
       "    }\n",
       "</style>\n",
       "<table border=\"1\" class=\"dataframe\">\n",
       "  <thead>\n",
       "    <tr style=\"text-align: right;\">\n",
       "      <th></th>\n",
       "      <th>0</th>\n",
       "      <th>1</th>\n",
       "      <th>2</th>\n",
       "      <th>3</th>\n",
       "      <th>4</th>\n",
       "      <th>5</th>\n",
       "      <th>6</th>\n",
       "      <th>7</th>\n",
       "      <th>8</th>\n",
       "      <th>9</th>\n",
       "      <th>...</th>\n",
       "      <th>3063</th>\n",
       "      <th>3064</th>\n",
       "      <th>3065</th>\n",
       "      <th>3066</th>\n",
       "      <th>3067</th>\n",
       "      <th>3068</th>\n",
       "      <th>3069</th>\n",
       "      <th>3070</th>\n",
       "      <th>3071</th>\n",
       "      <th>Label</th>\n",
       "    </tr>\n",
       "  </thead>\n",
       "  <tbody>\n",
       "    <tr>\n",
       "      <th>0</th>\n",
       "      <td>31.93</td>\n",
       "      <td>31.04</td>\n",
       "      <td>32.34</td>\n",
       "      <td>33.64</td>\n",
       "      <td>33.98</td>\n",
       "      <td>32.92</td>\n",
       "      <td>32.03</td>\n",
       "      <td>32.64</td>\n",
       "      <td>34.17</td>\n",
       "      <td>36.90</td>\n",
       "      <td>...</td>\n",
       "      <td>34.32</td>\n",
       "      <td>54.04</td>\n",
       "      <td>70.90</td>\n",
       "      <td>65.68</td>\n",
       "      <td>27.39</td>\n",
       "      <td>8.26</td>\n",
       "      <td>6.92</td>\n",
       "      <td>7.56</td>\n",
       "      <td>7.32</td>\n",
       "      <td>0</td>\n",
       "    </tr>\n",
       "    <tr>\n",
       "      <th>1</th>\n",
       "      <td>42.93</td>\n",
       "      <td>42.86</td>\n",
       "      <td>43.99</td>\n",
       "      <td>44.00</td>\n",
       "      <td>43.55</td>\n",
       "      <td>44.20</td>\n",
       "      <td>44.84</td>\n",
       "      <td>44.26</td>\n",
       "      <td>44.15</td>\n",
       "      <td>44.07</td>\n",
       "      <td>...</td>\n",
       "      <td>60.69</td>\n",
       "      <td>59.33</td>\n",
       "      <td>51.65</td>\n",
       "      <td>67.99</td>\n",
       "      <td>30.75</td>\n",
       "      <td>54.38</td>\n",
       "      <td>38.94</td>\n",
       "      <td>10.64</td>\n",
       "      <td>28.71</td>\n",
       "      <td>7</td>\n",
       "    </tr>\n",
       "    <tr>\n",
       "      <th>2</th>\n",
       "      <td>47.04</td>\n",
       "      <td>47.39</td>\n",
       "      <td>48.29</td>\n",
       "      <td>48.16</td>\n",
       "      <td>48.16</td>\n",
       "      <td>48.11</td>\n",
       "      <td>48.15</td>\n",
       "      <td>48.16</td>\n",
       "      <td>48.20</td>\n",
       "      <td>48.38</td>\n",
       "      <td>...</td>\n",
       "      <td>71.72</td>\n",
       "      <td>74.74</td>\n",
       "      <td>83.45</td>\n",
       "      <td>112.36</td>\n",
       "      <td>79.78</td>\n",
       "      <td>93.07</td>\n",
       "      <td>107.43</td>\n",
       "      <td>142.88</td>\n",
       "      <td>134.60</td>\n",
       "      <td>5</td>\n",
       "    </tr>\n",
       "    <tr>\n",
       "      <th>3</th>\n",
       "      <td>28.03</td>\n",
       "      <td>27.51</td>\n",
       "      <td>27.29</td>\n",
       "      <td>28.44</td>\n",
       "      <td>29.08</td>\n",
       "      <td>28.92</td>\n",
       "      <td>29.24</td>\n",
       "      <td>30.14</td>\n",
       "      <td>30.75</td>\n",
       "      <td>31.09</td>\n",
       "      <td>...</td>\n",
       "      <td>7.92</td>\n",
       "      <td>10.87</td>\n",
       "      <td>40.24</td>\n",
       "      <td>42.31</td>\n",
       "      <td>31.93</td>\n",
       "      <td>35.06</td>\n",
       "      <td>30.81</td>\n",
       "      <td>28.19</td>\n",
       "      <td>24.48</td>\n",
       "      <td>6</td>\n",
       "    </tr>\n",
       "    <tr>\n",
       "      <th>4</th>\n",
       "      <td>14.28</td>\n",
       "      <td>14.44</td>\n",
       "      <td>14.94</td>\n",
       "      <td>15.00</td>\n",
       "      <td>15.12</td>\n",
       "      <td>15.44</td>\n",
       "      <td>16.00</td>\n",
       "      <td>16.16</td>\n",
       "      <td>16.00</td>\n",
       "      <td>16.08</td>\n",
       "      <td>...</td>\n",
       "      <td>9.69</td>\n",
       "      <td>11.65</td>\n",
       "      <td>16.17</td>\n",
       "      <td>52.87</td>\n",
       "      <td>28.67</td>\n",
       "      <td>12.64</td>\n",
       "      <td>8.72</td>\n",
       "      <td>7.92</td>\n",
       "      <td>8.11</td>\n",
       "      <td>1</td>\n",
       "    </tr>\n",
       "  </tbody>\n",
       "</table>\n",
       "<p>5 rows × 3073 columns</p>\n",
       "</div>"
      ],
      "text/plain": [
       "       0      1      2      3      4      5      6      7      8      9  \\\n",
       "0  31.93  31.04  32.34  33.64  33.98  32.92  32.03  32.64  34.17  36.90   \n",
       "1  42.93  42.86  43.99  44.00  43.55  44.20  44.84  44.26  44.15  44.07   \n",
       "2  47.04  47.39  48.29  48.16  48.16  48.11  48.15  48.16  48.20  48.38   \n",
       "3  28.03  27.51  27.29  28.44  29.08  28.92  29.24  30.14  30.75  31.09   \n",
       "4  14.28  14.44  14.94  15.00  15.12  15.44  16.00  16.16  16.00  16.08   \n",
       "\n",
       "   ...     3063   3064   3065    3066   3067   3068    3069    3070    3071  \\\n",
       "0  ...    34.32  54.04  70.90   65.68  27.39   8.26    6.92    7.56    7.32   \n",
       "1  ...    60.69  59.33  51.65   67.99  30.75  54.38   38.94   10.64   28.71   \n",
       "2  ...    71.72  74.74  83.45  112.36  79.78  93.07  107.43  142.88  134.60   \n",
       "3  ...     7.92  10.87  40.24   42.31  31.93  35.06   30.81   28.19   24.48   \n",
       "4  ...     9.69  11.65  16.17   52.87  28.67  12.64    8.72    7.92    8.11   \n",
       "\n",
       "   Label  \n",
       "0      0  \n",
       "1      7  \n",
       "2      5  \n",
       "3      6  \n",
       "4      1  \n",
       "\n",
       "[5 rows x 3073 columns]"
      ]
     },
     "execution_count": 53,
     "metadata": {},
     "output_type": "execute_result"
    }
   ],
   "source": [
    "# shuffling using the shuffle() func from sklearn.utils\n",
    "shuffled_train_df = shuffle(train_df, random_state = 3)\n",
    "shuffled_train_df = shuffled_train_df.reset_index(drop = True)\n",
    "shuffled_train_df.head()"
   ]
  },
  {
   "cell_type": "code",
   "execution_count": 55,
   "metadata": {},
   "outputs": [
    {
     "data": {
      "text/html": [
       "<div>\n",
       "<style scoped>\n",
       "    .dataframe tbody tr th:only-of-type {\n",
       "        vertical-align: middle;\n",
       "    }\n",
       "\n",
       "    .dataframe tbody tr th {\n",
       "        vertical-align: top;\n",
       "    }\n",
       "\n",
       "    .dataframe thead th {\n",
       "        text-align: right;\n",
       "    }\n",
       "</style>\n",
       "<table border=\"1\" class=\"dataframe\">\n",
       "  <thead>\n",
       "    <tr style=\"text-align: right;\">\n",
       "      <th></th>\n",
       "      <th>0</th>\n",
       "      <th>1</th>\n",
       "      <th>2</th>\n",
       "      <th>3</th>\n",
       "      <th>4</th>\n",
       "      <th>5</th>\n",
       "      <th>6</th>\n",
       "      <th>7</th>\n",
       "      <th>8</th>\n",
       "      <th>9</th>\n",
       "      <th>...</th>\n",
       "      <th>3062</th>\n",
       "      <th>3063</th>\n",
       "      <th>3064</th>\n",
       "      <th>3065</th>\n",
       "      <th>3066</th>\n",
       "      <th>3067</th>\n",
       "      <th>3068</th>\n",
       "      <th>3069</th>\n",
       "      <th>3070</th>\n",
       "      <th>3071</th>\n",
       "    </tr>\n",
       "  </thead>\n",
       "  <tbody>\n",
       "    <tr>\n",
       "      <th>0</th>\n",
       "      <td>31.93</td>\n",
       "      <td>31.04</td>\n",
       "      <td>32.34</td>\n",
       "      <td>33.64</td>\n",
       "      <td>33.98</td>\n",
       "      <td>32.92</td>\n",
       "      <td>32.03</td>\n",
       "      <td>32.64</td>\n",
       "      <td>34.17</td>\n",
       "      <td>36.90</td>\n",
       "      <td>...</td>\n",
       "      <td>26.59</td>\n",
       "      <td>34.32</td>\n",
       "      <td>54.04</td>\n",
       "      <td>70.90</td>\n",
       "      <td>65.68</td>\n",
       "      <td>27.39</td>\n",
       "      <td>8.26</td>\n",
       "      <td>6.92</td>\n",
       "      <td>7.56</td>\n",
       "      <td>7.32</td>\n",
       "    </tr>\n",
       "    <tr>\n",
       "      <th>1</th>\n",
       "      <td>42.93</td>\n",
       "      <td>42.86</td>\n",
       "      <td>43.99</td>\n",
       "      <td>44.00</td>\n",
       "      <td>43.55</td>\n",
       "      <td>44.20</td>\n",
       "      <td>44.84</td>\n",
       "      <td>44.26</td>\n",
       "      <td>44.15</td>\n",
       "      <td>44.07</td>\n",
       "      <td>...</td>\n",
       "      <td>55.90</td>\n",
       "      <td>60.69</td>\n",
       "      <td>59.33</td>\n",
       "      <td>51.65</td>\n",
       "      <td>67.99</td>\n",
       "      <td>30.75</td>\n",
       "      <td>54.38</td>\n",
       "      <td>38.94</td>\n",
       "      <td>10.64</td>\n",
       "      <td>28.71</td>\n",
       "    </tr>\n",
       "    <tr>\n",
       "      <th>2</th>\n",
       "      <td>47.04</td>\n",
       "      <td>47.39</td>\n",
       "      <td>48.29</td>\n",
       "      <td>48.16</td>\n",
       "      <td>48.16</td>\n",
       "      <td>48.11</td>\n",
       "      <td>48.15</td>\n",
       "      <td>48.16</td>\n",
       "      <td>48.20</td>\n",
       "      <td>48.38</td>\n",
       "      <td>...</td>\n",
       "      <td>71.10</td>\n",
       "      <td>71.72</td>\n",
       "      <td>74.74</td>\n",
       "      <td>83.45</td>\n",
       "      <td>112.36</td>\n",
       "      <td>79.78</td>\n",
       "      <td>93.07</td>\n",
       "      <td>107.43</td>\n",
       "      <td>142.88</td>\n",
       "      <td>134.60</td>\n",
       "    </tr>\n",
       "    <tr>\n",
       "      <th>3</th>\n",
       "      <td>28.03</td>\n",
       "      <td>27.51</td>\n",
       "      <td>27.29</td>\n",
       "      <td>28.44</td>\n",
       "      <td>29.08</td>\n",
       "      <td>28.92</td>\n",
       "      <td>29.24</td>\n",
       "      <td>30.14</td>\n",
       "      <td>30.75</td>\n",
       "      <td>31.09</td>\n",
       "      <td>...</td>\n",
       "      <td>21.53</td>\n",
       "      <td>7.92</td>\n",
       "      <td>10.87</td>\n",
       "      <td>40.24</td>\n",
       "      <td>42.31</td>\n",
       "      <td>31.93</td>\n",
       "      <td>35.06</td>\n",
       "      <td>30.81</td>\n",
       "      <td>28.19</td>\n",
       "      <td>24.48</td>\n",
       "    </tr>\n",
       "    <tr>\n",
       "      <th>4</th>\n",
       "      <td>14.28</td>\n",
       "      <td>14.44</td>\n",
       "      <td>14.94</td>\n",
       "      <td>15.00</td>\n",
       "      <td>15.12</td>\n",
       "      <td>15.44</td>\n",
       "      <td>16.00</td>\n",
       "      <td>16.16</td>\n",
       "      <td>16.00</td>\n",
       "      <td>16.08</td>\n",
       "      <td>...</td>\n",
       "      <td>34.12</td>\n",
       "      <td>9.69</td>\n",
       "      <td>11.65</td>\n",
       "      <td>16.17</td>\n",
       "      <td>52.87</td>\n",
       "      <td>28.67</td>\n",
       "      <td>12.64</td>\n",
       "      <td>8.72</td>\n",
       "      <td>7.92</td>\n",
       "      <td>8.11</td>\n",
       "    </tr>\n",
       "  </tbody>\n",
       "</table>\n",
       "<p>5 rows × 3072 columns</p>\n",
       "</div>"
      ],
      "text/plain": [
       "    0      1      2      3      4      5      6      7      8      9     \\\n",
       "0  31.93  31.04  32.34  33.64  33.98  32.92  32.03  32.64  34.17  36.90   \n",
       "1  42.93  42.86  43.99  44.00  43.55  44.20  44.84  44.26  44.15  44.07   \n",
       "2  47.04  47.39  48.29  48.16  48.16  48.11  48.15  48.16  48.20  48.38   \n",
       "3  28.03  27.51  27.29  28.44  29.08  28.92  29.24  30.14  30.75  31.09   \n",
       "4  14.28  14.44  14.94  15.00  15.12  15.44  16.00  16.16  16.00  16.08   \n",
       "\n",
       "    ...     3062   3063   3064   3065    3066   3067   3068    3069    3070  \\\n",
       "0   ...    26.59  34.32  54.04  70.90   65.68  27.39   8.26    6.92    7.56   \n",
       "1   ...    55.90  60.69  59.33  51.65   67.99  30.75  54.38   38.94   10.64   \n",
       "2   ...    71.10  71.72  74.74  83.45  112.36  79.78  93.07  107.43  142.88   \n",
       "3   ...    21.53   7.92  10.87  40.24   42.31  31.93  35.06   30.81   28.19   \n",
       "4   ...    34.12   9.69  11.65  16.17   52.87  28.67  12.64    8.72    7.92   \n",
       "\n",
       "     3071  \n",
       "0    7.32  \n",
       "1   28.71  \n",
       "2  134.60  \n",
       "3   24.48  \n",
       "4    8.11  \n",
       "\n",
       "[5 rows x 3072 columns]"
      ]
     },
     "execution_count": 55,
     "metadata": {},
     "output_type": "execute_result"
    }
   ],
   "source": [
    "features = [x for x in range(3072)]\n",
    "X = shuffled_train_df[features]\n",
    "X.head()"
   ]
  },
  {
   "cell_type": "markdown",
   "metadata": {},
   "source": [
    "#### Normalizing the feature matrix"
   ]
  },
  {
   "cell_type": "code",
   "execution_count": 105,
   "metadata": {},
   "outputs": [
    {
     "name": "stdout",
     "output_type": "stream",
     "text": [
      "[[-0.46540941 -0.64517063 -0.60040984 ... -0.72835212 -0.76289254\n",
      "  -0.78576702]\n",
      " [ 0.19056931 -0.11070417 -0.04127063 ...  1.07502826 -0.60121127\n",
      "   0.67000426]\n",
      " [ 0.43566682  0.09412942  0.16510693 ...  4.93241497  6.34058448\n",
      "   7.87671866]\n",
      " ...\n",
      " [-1.05877198 -1.07654203 -1.04388162 ... -0.33016663 -0.52142052\n",
      "  -0.64012183]\n",
      " [ 0.19593641 -0.09080863 -0.04127063 ... -0.47997899 -0.58126358\n",
      "   1.67590887]\n",
      " [ 1.26637441  2.15331745  0.61769772 ...  0.17221167 -0.07627209\n",
      "   0.10239638]]\n"
     ]
    }
   ],
   "source": [
    "X = scale(X)\n",
    "print(X)"
   ]
  },
  {
   "cell_type": "code",
   "execution_count": 106,
   "metadata": {},
   "outputs": [
    {
     "data": {
      "text/plain": [
       "0    0\n",
       "1    7\n",
       "2    5\n",
       "3    6\n",
       "4    1\n",
       "Name: Label, dtype: int64"
      ]
     },
     "execution_count": 106,
     "metadata": {},
     "output_type": "execute_result"
    }
   ],
   "source": [
    "y = shuffled_train_df['Label']\n",
    "y.head()"
   ]
  },
  {
   "cell_type": "markdown",
   "metadata": {},
   "source": [
    "## Because we only have the \"training\" data labeled, I will be splitting it in half\n",
    "The first half will be used to train/test the model, and the other half will be used as \"unseen\" data to test our model and evaluiate its performance and generalization"
   ]
  },
  {
   "cell_type": "markdown",
   "metadata": {},
   "source": [
    "### Here, we will only be using 1/2 of the images to train/test our model, around 10,000 images"
   ]
  },
  {
   "cell_type": "code",
   "execution_count": 107,
   "metadata": {},
   "outputs": [],
   "source": [
    "X_train, X_test, y_train, y_test = train_test_split(X, y, random_state=3, test_size=.50)"
   ]
  },
  {
   "cell_type": "markdown",
   "metadata": {},
   "source": [
    "#### Now we create the data frame that we will be using to train/test our model, leaving the other half as \"unseen\", labeled data"
   ]
  },
  {
   "cell_type": "code",
   "execution_count": 118,
   "metadata": {},
   "outputs": [
    {
     "data": {
      "text/html": [
       "<div>\n",
       "<style scoped>\n",
       "    .dataframe tbody tr th:only-of-type {\n",
       "        vertical-align: middle;\n",
       "    }\n",
       "\n",
       "    .dataframe tbody tr th {\n",
       "        vertical-align: top;\n",
       "    }\n",
       "\n",
       "    .dataframe thead th {\n",
       "        text-align: right;\n",
       "    }\n",
       "</style>\n",
       "<table border=\"1\" class=\"dataframe\">\n",
       "  <thead>\n",
       "    <tr style=\"text-align: right;\">\n",
       "      <th></th>\n",
       "      <th>0</th>\n",
       "      <th>1</th>\n",
       "      <th>2</th>\n",
       "      <th>3</th>\n",
       "      <th>4</th>\n",
       "      <th>5</th>\n",
       "      <th>6</th>\n",
       "      <th>7</th>\n",
       "      <th>8</th>\n",
       "      <th>9</th>\n",
       "      <th>...</th>\n",
       "      <th>3063</th>\n",
       "      <th>3064</th>\n",
       "      <th>3065</th>\n",
       "      <th>3066</th>\n",
       "      <th>3067</th>\n",
       "      <th>3068</th>\n",
       "      <th>3069</th>\n",
       "      <th>3070</th>\n",
       "      <th>3071</th>\n",
       "      <th>Label</th>\n",
       "    </tr>\n",
       "  </thead>\n",
       "  <tbody>\n",
       "    <tr>\n",
       "      <th>0</th>\n",
       "      <td>0.302086</td>\n",
       "      <td>-0.044687</td>\n",
       "      <td>0.001445</td>\n",
       "      <td>0.118197</td>\n",
       "      <td>0.133229</td>\n",
       "      <td>-0.010347</td>\n",
       "      <td>-0.283038</td>\n",
       "      <td>-0.286179</td>\n",
       "      <td>-0.245197</td>\n",
       "      <td>-0.202165</td>\n",
       "      <td>...</td>\n",
       "      <td>1.149360</td>\n",
       "      <td>0.857608</td>\n",
       "      <td>-0.136970</td>\n",
       "      <td>0.147016</td>\n",
       "      <td>0.545918</td>\n",
       "      <td>2.603815</td>\n",
       "      <td>1.973339</td>\n",
       "      <td>1.395132</td>\n",
       "      <td>2.478999</td>\n",
       "      <td>4</td>\n",
       "    </tr>\n",
       "    <tr>\n",
       "      <th>1</th>\n",
       "      <td>-0.262652</td>\n",
       "      <td>1.352522</td>\n",
       "      <td>0.273575</td>\n",
       "      <td>-1.006202</td>\n",
       "      <td>-1.068265</td>\n",
       "      <td>-0.060194</td>\n",
       "      <td>1.134285</td>\n",
       "      <td>1.447663</td>\n",
       "      <td>1.365340</td>\n",
       "      <td>1.087757</td>\n",
       "      <td>...</td>\n",
       "      <td>-0.157643</td>\n",
       "      <td>-0.273674</td>\n",
       "      <td>-0.380043</td>\n",
       "      <td>-0.917270</td>\n",
       "      <td>-0.845308</td>\n",
       "      <td>-0.417259</td>\n",
       "      <td>-0.455198</td>\n",
       "      <td>-0.597537</td>\n",
       "      <td>-0.491074</td>\n",
       "      <td>8</td>\n",
       "    </tr>\n",
       "    <tr>\n",
       "      <th>2</th>\n",
       "      <td>0.087998</td>\n",
       "      <td>-0.159539</td>\n",
       "      <td>-0.074387</td>\n",
       "      <td>0.037581</td>\n",
       "      <td>0.053753</td>\n",
       "      <td>-0.092113</td>\n",
       "      <td>-0.356264</td>\n",
       "      <td>-0.347699</td>\n",
       "      <td>-0.287713</td>\n",
       "      <td>-0.240956</td>\n",
       "      <td>...</td>\n",
       "      <td>-0.678818</td>\n",
       "      <td>-1.010446</td>\n",
       "      <td>-0.309263</td>\n",
       "      <td>0.047239</td>\n",
       "      <td>0.060457</td>\n",
       "      <td>-0.528678</td>\n",
       "      <td>-0.548127</td>\n",
       "      <td>-0.668403</td>\n",
       "      <td>1.585391</td>\n",
       "      <td>0</td>\n",
       "    </tr>\n",
       "    <tr>\n",
       "      <th>3</th>\n",
       "      <td>-0.121319</td>\n",
       "      <td>-0.280268</td>\n",
       "      <td>-0.224131</td>\n",
       "      <td>-0.001191</td>\n",
       "      <td>0.078297</td>\n",
       "      <td>0.039937</td>\n",
       "      <td>-0.166321</td>\n",
       "      <td>-0.108060</td>\n",
       "      <td>0.101839</td>\n",
       "      <td>0.264185</td>\n",
       "      <td>...</td>\n",
       "      <td>-0.305864</td>\n",
       "      <td>-0.379286</td>\n",
       "      <td>-0.897622</td>\n",
       "      <td>-1.032398</td>\n",
       "      <td>-0.508568</td>\n",
       "      <td>0.205249</td>\n",
       "      <td>-0.400004</td>\n",
       "      <td>1.788312</td>\n",
       "      <td>-0.245383</td>\n",
       "      <td>0</td>\n",
       "    </tr>\n",
       "    <tr>\n",
       "      <th>4</th>\n",
       "      <td>-0.309764</td>\n",
       "      <td>-0.400998</td>\n",
       "      <td>-0.331639</td>\n",
       "      <td>-0.069522</td>\n",
       "      <td>-0.007413</td>\n",
       "      <td>-0.050574</td>\n",
       "      <td>-0.246610</td>\n",
       "      <td>-0.200179</td>\n",
       "      <td>-0.038066</td>\n",
       "      <td>0.137154</td>\n",
       "      <td>...</td>\n",
       "      <td>-0.541686</td>\n",
       "      <td>-0.373419</td>\n",
       "      <td>-0.920672</td>\n",
       "      <td>-1.023699</td>\n",
       "      <td>-0.123581</td>\n",
       "      <td>-0.009275</td>\n",
       "      <td>0.345679</td>\n",
       "      <td>1.587260</td>\n",
       "      <td>-0.427099</td>\n",
       "      <td>4</td>\n",
       "    </tr>\n",
       "  </tbody>\n",
       "</table>\n",
       "<p>5 rows × 3073 columns</p>\n",
       "</div>"
      ],
      "text/plain": [
       "          0         1         2         3         4         5         6  \\\n",
       "0  0.302086 -0.044687  0.001445  0.118197  0.133229 -0.010347 -0.283038   \n",
       "1 -0.262652  1.352522  0.273575 -1.006202 -1.068265 -0.060194  1.134285   \n",
       "2  0.087998 -0.159539 -0.074387  0.037581  0.053753 -0.092113 -0.356264   \n",
       "3 -0.121319 -0.280268 -0.224131 -0.001191  0.078297  0.039937 -0.166321   \n",
       "4 -0.309764 -0.400998 -0.331639 -0.069522 -0.007413 -0.050574 -0.246610   \n",
       "\n",
       "          7         8         9  ...        3063      3064      3065  \\\n",
       "0 -0.286179 -0.245197 -0.202165  ...    1.149360  0.857608 -0.136970   \n",
       "1  1.447663  1.365340  1.087757  ...   -0.157643 -0.273674 -0.380043   \n",
       "2 -0.347699 -0.287713 -0.240956  ...   -0.678818 -1.010446 -0.309263   \n",
       "3 -0.108060  0.101839  0.264185  ...   -0.305864 -0.379286 -0.897622   \n",
       "4 -0.200179 -0.038066  0.137154  ...   -0.541686 -0.373419 -0.920672   \n",
       "\n",
       "       3066      3067      3068      3069      3070      3071  Label  \n",
       "0  0.147016  0.545918  2.603815  1.973339  1.395132  2.478999      4  \n",
       "1 -0.917270 -0.845308 -0.417259 -0.455198 -0.597537 -0.491074      8  \n",
       "2  0.047239  0.060457 -0.528678 -0.548127 -0.668403  1.585391      0  \n",
       "3 -1.032398 -0.508568  0.205249 -0.400004  1.788312 -0.245383      0  \n",
       "4 -1.023699 -0.123581 -0.009275  0.345679  1.587260 -0.427099      4  \n",
       "\n",
       "[5 rows x 3073 columns]"
      ]
     },
     "execution_count": 118,
     "metadata": {},
     "output_type": "execute_result"
    }
   ],
   "source": [
    "training_data_df = pd.DataFrame(X_train)\n",
    "training_data_df['Label'] = np.array(y_train)\n",
    "training_data_df.head()"
   ]
  },
  {
   "cell_type": "code",
   "execution_count": 119,
   "metadata": {},
   "outputs": [
    {
     "name": "stdout",
     "output_type": "stream",
     "text": [
      "(7848, 3073)\n",
      "[0, 1, 2, 3, 4, 5, 6, 7, 8, 9]\n",
      "[1235, 1149, 1179, 1162, 1172, 1151, 1164, 1006, 927, 1067]\n"
     ]
    }
   ],
   "source": [
    "samp_classes, samp_counts = count_freqs(y_train)\n",
    "print(train_df_sampled.shape)\n",
    "print(samp_classes)\n",
    "print(samp_counts)"
   ]
  },
  {
   "cell_type": "markdown",
   "metadata": {},
   "source": [
    "### After shuffling our data, then randomly splitting it, we still have a reasonably balanced dataset"
   ]
  },
  {
   "cell_type": "code",
   "execution_count": 120,
   "metadata": {},
   "outputs": [
    {
     "data": {
      "image/png": "[encoded data removed]",
      "text/plain": [
       "<Figure size 432x288 with 1 Axes>"
      ]
     },
     "metadata": {},
     "output_type": "display_data"
    }
   ],
   "source": [
    "fig1, ax1 = plt.subplots()\n",
    "ax1.pie(samp_counts, labels=samp_classes, autopct='%1.1f%%', shadow=True, startangle=100)\n",
    "ax1.axis('equal')  # Equal aspect ratio ensures that pie is drawn as a circle.\n",
    "\n",
    "plt.show()"
   ]
  },
  {
   "cell_type": "markdown",
   "metadata": {},
   "source": [
    "### Now we will split the \"new training\" data again, in order to actually train our svm models"
   ]
  },
  {
   "cell_type": "code",
   "execution_count": 121,
   "metadata": {},
   "outputs": [],
   "source": [
    "X_new = training_data_df[features]\n",
    "y_new = training_data_df['Label']"
   ]
  },
  {
   "cell_type": "code",
   "execution_count": 122,
   "metadata": {},
   "outputs": [
    {
     "name": "stdout",
     "output_type": "stream",
     "text": [
      "new_X_train.shape =  (8409, 3072)\n",
      "new_X_test.shape  =  (2803, 3072)\n",
      "new_y_train.shape =  (8409,)\n",
      "new_y_test.shape  =  (2803,)\n"
     ]
    }
   ],
   "source": [
    "new_X_train, new_X_test, new_y_train, new_y_test = train_test_split(X_new, y_new, random_state=3, test_size=.25)\n",
    "print('new_X_train.shape = ', new_X_train.shape)\n",
    "print('new_X_test.shape  = ', new_X_test.shape)\n",
    "print('new_y_train.shape = ', new_y_train.shape)\n",
    "print('new_y_test.shape  = ', new_y_test.shape)"
   ]
  },
  {
   "cell_type": "markdown",
   "metadata": {},
   "source": [
    "#### Dismensionality reduction with 250 components"
   ]
  },
  {
   "cell_type": "code",
   "execution_count": 123,
   "metadata": {},
   "outputs": [
    {
     "name": "stdout",
     "output_type": "stream",
     "text": [
      "[[ 10.46085731  -2.27124002  11.84390636 ...  -0.66495209   1.06102369\n",
      "   -1.97291515]\n",
      " [-25.94905708  -1.72697957 -18.48376549 ...  -0.76793553  -0.65502256\n",
      "   -0.5181972 ]\n",
      " [-34.71026343  11.50696574  35.02186734 ...  -0.71192046   0.63731319\n",
      "   -0.63370923]\n",
      " ...\n",
      " [-11.67666732  -8.16135682  -2.21184024 ...   0.06872363  -0.27550363\n",
      "   -0.3673443 ]\n",
      " [ 50.06109562 -20.59561691   3.93953263 ...  -0.12486835  -0.26597946\n",
      "   -1.86049185]\n",
      " [  8.26622462  17.57367762  -8.94880876 ...   0.11169799  -0.06601198\n",
      "   -0.07942393]] \n",
      "\n",
      " (8409, 250)\n",
      "\n",
      "\n",
      "\n",
      "\n",
      "[[-16.59456046  -3.71226824  13.65562759 ...   0.17625667  -0.20379413\n",
      "   -0.26742932]\n",
      " [-14.48564905   1.33576045  25.73687078 ...   0.71990786   0.52381153\n",
      "   -0.60671434]\n",
      " [-17.68596682 -11.84823391  -9.81756979 ...  -1.34163324  -0.06147547\n",
      "   -0.1381795 ]\n",
      " ...\n",
      " [ 26.31722696  32.07596265 -12.37549224 ...  -0.41151383   0.70736872\n",
      "   -1.96817379]\n",
      " [ 43.55492408 -30.62478581   8.04070736 ...  -0.14007083  -0.93390284\n",
      "   -0.9513875 ]\n",
      " [ -5.98084638  -3.06901601   0.8801858  ...   0.74856064  -0.8622152\n",
      "    0.48213382]] \n",
      "\n",
      " (2803, 250)\n"
     ]
    }
   ],
   "source": [
    "# Since we now have less images to work with, we can use more principal components to train our model with\n",
    "# Creating a new PCA model\n",
    "pca = PCA(n_components = 250)\n",
    "X_train_pca = pca.fit_transform(new_X_train)\n",
    "X_test_pca = pca.transform(new_X_test)\n",
    "print(X_train_pca,'\\n\\n',X_train_pca.shape)\n",
    "print('\\n\\n\\n')\n",
    "print(X_test_pca,'\\n\\n', X_test_pca.shape)"
   ]
  },
  {
   "cell_type": "markdown",
   "metadata": {},
   "source": [
    "#### Creating SVC models"
   ]
  },
  {
   "cell_type": "code",
   "execution_count": 125,
   "metadata": {},
   "outputs": [],
   "source": [
    "svm1 = SVC(C = 1, kernel = 'rbf', gamma = 0.0005, random_state = 1)\n",
    "svm1.fit(X_train_pca, new_y_train)\n",
    "y_preds1 = svm1.predict(X_test_pca)"
   ]
  },
  {
   "cell_type": "code",
   "execution_count": 127,
   "metadata": {},
   "outputs": [
    {
     "name": "stdout",
     "output_type": "stream",
     "text": [
      "The accuracy score is 0.9900107028184089\n"
     ]
    }
   ],
   "source": [
    "acc = accuracy_score(new_y_test, y_preds1)\n",
    "print('The accuracy score is', acc)"
   ]
  },
  {
   "cell_type": "markdown",
   "metadata": {},
   "source": [
    "##### Since the above model got .99 accuracy score using 250 compontents using only half of the labeled data, lets test how it does on the \"unseen\" labeled data"
   ]
  },
  {
   "cell_type": "code",
   "execution_count": 128,
   "metadata": {},
   "outputs": [],
   "source": [
    "# X_test is the other half of the labeled data that we split in the first train/test split\n",
    "X_test_pca = pca.fit_transform(X_test)"
   ]
  },
  {
   "cell_type": "code",
   "execution_count": 129,
   "metadata": {},
   "outputs": [
    {
     "name": "stdout",
     "output_type": "stream",
     "text": [
      "[8 0 8 ... 0 7 4]\n"
     ]
    }
   ],
   "source": [
    "y_preds_test_1 = svm1.predict(X_test_pca)\n",
    "print(y_preds_test_1)"
   ]
  },
  {
   "cell_type": "markdown",
   "metadata": {},
   "source": [
    "# Aha !\n",
    "\n",
    "#### Note that when we used only half of the data to train the SVM model, then tested it on completely unseen data, we only achieved an accuracy of 43.02%. This proves that our models are clearly being overfit, and do not perform well with unseen data. This explains why we were constantly getting over 99% accuracy, yet the submissions we attempted were very poor"
   ]
  },
  {
   "cell_type": "code",
   "execution_count": 130,
   "metadata": {},
   "outputs": [
    {
     "name": "stdout",
     "output_type": "stream",
     "text": [
      "The accuracy score is 0.430164109882269\n"
     ]
    }
   ],
   "source": [
    "acc = accuracy_score(y_test, y_preds_test_1)\n",
    "print('The accuracy score is', acc)"
   ]
  }
 ],
 "metadata": {
  "kernelspec": {
   "display_name": "Python 3",
   "language": "python",
   "name": "python3"
  },
  "language_info": {
   "codemirror_mode": {
    "name": "ipython",
    "version": 3
   },
   "file_extension": ".py",
   "mimetype": "text/x-python",
   "name": "python",
   "nbconvert_exporter": "python",
   "pygments_lexer": "ipython3",
   "version": "3.7.1"
  }
 },
 "nbformat": 4,
 "nbformat_minor": 2
}
