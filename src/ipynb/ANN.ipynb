{
 "cells": [
  {
   "cell_type": "code",
   "execution_count": 1,
   "metadata": {},
   "outputs": [],
   "source": [
    "from sklearn.neural_network import MLPClassifier\n",
    "\n",
    "from sklearn.model_selection import train_test_split\n",
    "from sklearn.model_selection import cross_val_score\n",
    "from sklearn.metrics import accuracy_score\n",
    "from sklearn import metrics\n",
    "import matplotlib.pyplot as plt\n",
    "import numpy as np\n",
    "import pandas as pd\n"
   ]
  },
  {
   "cell_type": "code",
   "execution_count": 37,
   "metadata": {},
   "outputs": [
    {
     "name": "stderr",
     "output_type": "stream",
     "text": [
      "Using TensorFlow backend.\n"
     ]
    }
   ],
   "source": [
    "from keras.models import Sequential\n",
    "# import the core layers:\n",
    "from keras.layers import Dense, Dropout, Activation, Flatten\n",
    "from keras.utils import np_utils"
   ]
  },
  {
   "cell_type": "code",
   "execution_count": 2,
   "metadata": {},
   "outputs": [],
   "source": [
    "labels_df = pd.read_pickle('labelsDF')\n",
    "train_df = pd.read_pickle('trainDF')\n",
    "test_df = pd.read_pickle('testDF')"
   ]
  },
  {
   "cell_type": "markdown",
   "metadata": {},
   "source": [
    "#### Using splitting method only - using labels and train"
   ]
  },
  {
   "cell_type": "code",
   "execution_count": 16,
   "metadata": {},
   "outputs": [],
   "source": [
    "X_train, X_test, y_train, y_test = train_test_split(train_df, labels_df, test_size=0.2, random_state=2)"
   ]
  },
  {
   "cell_type": "code",
   "execution_count": 35,
   "metadata": {},
   "outputs": [],
   "source": [
    "X_train = X_train.astype('float32')\n",
    "X_test = X_test.astype('float32')\n",
    "X_train /= 255\n",
    "X_test /= 255"
   ]
  },
  {
   "cell_type": "code",
   "execution_count": 47,
   "metadata": {},
   "outputs": [],
   "source": [
    "y_train = np_utils.to_categorical(y_train, 10)\n",
    "y_test = np_utils.to_categorical(y_test, 10)"
   ]
  },
  {
   "cell_type": "code",
   "execution_count": 49,
   "metadata": {},
   "outputs": [
    {
     "name": "stdout",
     "output_type": "stream",
     "text": [
      "[[0. 0. 0. ... 1. 0. 0.]\n",
      " [0. 0. 1. ... 0. 0. 0.]\n",
      " [0. 0. 0. ... 0. 0. 0.]\n",
      " ...\n",
      " [0. 0. 0. ... 1. 0. 0.]\n",
      " [0. 0. 0. ... 0. 0. 1.]\n",
      " [0. 0. 0. ... 0. 0. 0.]]\n"
     ]
    }
   ],
   "source": [
    "print(y_train[0::100])"
   ]
  },
  {
   "cell_type": "code",
   "execution_count": 143,
   "metadata": {},
   "outputs": [],
   "source": [
    "model = Sequential()"
   ]
  },
  {
   "cell_type": "code",
   "execution_count": 144,
   "metadata": {},
   "outputs": [
    {
     "data": {
      "text/plain": [
       "(17939, 10)"
      ]
     },
     "execution_count": 144,
     "metadata": {},
     "output_type": "execute_result"
    }
   ],
   "source": [
    "X_train.shape\n",
    "y_train.shape"
   ]
  },
  {
   "cell_type": "code",
   "execution_count": 145,
   "metadata": {},
   "outputs": [],
   "source": [
    "input_size = 3072\n",
    "hidden_neurons = 500\n",
    "out_size = 10"
   ]
  },
  {
   "cell_type": "code",
   "execution_count": 146,
   "metadata": {},
   "outputs": [],
   "source": [
    "model.add(Dense(hidden_neurons,input_dim = input_size))\n",
    "model.add(Activation('sigmoid'))\n",
    "\n",
    "model.add(Dense(out_size, input_dim = hidden_neurons))\n",
    "model.add(Activation('softmax'))"
   ]
  },
  {
   "cell_type": "code",
   "execution_count": 147,
   "metadata": {},
   "outputs": [],
   "source": [
    "model.compile(loss='categorical_crossentropy',metrics=['accuracy'],optimizer='Adam')"
   ]
  },
  {
   "cell_type": "code",
   "execution_count": 148,
   "metadata": {
    "scrolled": true
   },
   "outputs": [
    {
     "name": "stdout",
     "output_type": "stream",
     "text": [
      "Train on 12019 samples, validate on 5920 samples\n",
      "Epoch 1/20\n",
      "12019/12019 [==============================] - 7s 541us/step - loss: 2.0852 - acc: 0.3043 - val_loss: 1.6568 - val_acc: 0.5169\n",
      "Epoch 2/20\n",
      "12019/12019 [==============================] - 5s 410us/step - loss: 1.4242 - acc: 0.5763 - val_loss: 1.3082 - val_acc: 0.5819\n",
      "Epoch 3/20\n",
      "12019/12019 [==============================] - 5s 435us/step - loss: 1.0646 - acc: 0.7214 - val_loss: 0.9421 - val_acc: 0.7642\n",
      "Epoch 4/20\n",
      "12019/12019 [==============================] - 5s 400us/step - loss: 0.8182 - acc: 0.8137 - val_loss: 0.7377 - val_acc: 0.8574\n",
      "Epoch 5/20\n",
      "12019/12019 [==============================] - 6s 512us/step - loss: 0.6609 - acc: 0.8591 - val_loss: 0.6314 - val_acc: 0.8522\n",
      "Epoch 6/20\n",
      "12019/12019 [==============================] - 5s 403us/step - loss: 0.5375 - acc: 0.8885 - val_loss: 0.5063 - val_acc: 0.9003\n",
      "Epoch 7/20\n",
      "12019/12019 [==============================] - 6s 474us/step - loss: 0.4397 - acc: 0.9135 - val_loss: 0.4439 - val_acc: 0.9113\n",
      "Epoch 8/20\n",
      "12019/12019 [==============================] - 6s 493us/step - loss: 0.3652 - acc: 0.9335 - val_loss: 0.3813 - val_acc: 0.9267\n",
      "Epoch 9/20\n",
      "12019/12019 [==============================] - 5s 446us/step - loss: 0.3191 - acc: 0.9412 - val_loss: 0.3520 - val_acc: 0.9284\n",
      "Epoch 10/20\n",
      "12019/12019 [==============================] - 5s 449us/step - loss: 0.2947 - acc: 0.9423 - val_loss: 0.3189 - val_acc: 0.9284\n",
      "Epoch 11/20\n",
      "12019/12019 [==============================] - 5s 410us/step - loss: 0.2420 - acc: 0.9544 - val_loss: 0.2771 - val_acc: 0.9426\n",
      "Epoch 12/20\n",
      "12019/12019 [==============================] - 6s 481us/step - loss: 0.2137 - acc: 0.9611 - val_loss: 0.2595 - val_acc: 0.9419\n",
      "Epoch 13/20\n",
      "12019/12019 [==============================] - 5s 442us/step - loss: 0.1884 - acc: 0.9659 - val_loss: 0.2259 - val_acc: 0.9512\n",
      "Epoch 14/20\n",
      "12019/12019 [==============================] - 5s 441us/step - loss: 0.1738 - acc: 0.9694 - val_loss: 0.2248 - val_acc: 0.9532\n",
      "Epoch 15/20\n",
      "12019/12019 [==============================] - 5s 456us/step - loss: 0.1606 - acc: 0.9712 - val_loss: 0.1885 - val_acc: 0.9628\n",
      "Epoch 16/20\n",
      "12019/12019 [==============================] - 6s 462us/step - loss: 0.1430 - acc: 0.9751 - val_loss: 0.1796 - val_acc: 0.9659\n",
      "Epoch 17/20\n",
      "12019/12019 [==============================] - 5s 443us/step - loss: 0.1288 - acc: 0.9769 - val_loss: 0.1660 - val_acc: 0.9664\n",
      "Epoch 18/20\n",
      "12019/12019 [==============================] - 5s 448us/step - loss: 0.1201 - acc: 0.9799 - val_loss: 0.1599 - val_acc: 0.9667\n",
      "Epoch 19/20\n",
      "12019/12019 [==============================] - 5s 425us/step - loss: 0.1134 - acc: 0.9798 - val_loss: 0.1642 - val_acc: 0.9633\n",
      "Epoch 20/20\n",
      "12019/12019 [==============================] - 5s 432us/step - loss: 0.1027 - acc: 0.9825 - val_loss: 0.1435 - val_acc: 0.9711\n"
     ]
    }
   ],
   "source": [
    "fitted_model = model.fit(X_train,y_train, validation_split=0.33, batch_size=256,epochs =20,verbose=1)"
   ]
  },
  {
   "cell_type": "code",
   "execution_count": 149,
   "metadata": {},
   "outputs": [
    {
     "data": {
      "image/png": "[encoded data removed]",
      "text/plain": [
       "<Figure size 432x288 with 1 Axes>"
      ]
     },
     "metadata": {
      "needs_background": "light"
     },
     "output_type": "display_data"
    },
    {
     "data": {
      "image/png": "[encoded data removed]",
      "text/plain": [
       "<Figure size 432x288 with 1 Axes>"
      ]
     },
     "metadata": {
      "needs_background": "light"
     },
     "output_type": "display_data"
    }
   ],
   "source": [
    "\n",
    "\n",
    "# summarize history for accuracy\n",
    "plt.plot(fitted_model.history['acc'])\n",
    "plt.plot(fitted_model.history['val_acc'])\n",
    "plt.title('model accuracy')\n",
    "plt.ylabel('accuracy')\n",
    "plt.xlabel('epoch')\n",
    "plt.legend(['train', 'val'], loc='upper left')\n",
    "plt.show()\n",
    "\n",
    "# summarize history for loss\n",
    "plt.plot(fitted_model.history['loss'])\n",
    "plt.plot(fitted_model.history['val_loss'])\n",
    "plt.title('model loss')\n",
    "plt.ylabel('loss')\n",
    "plt.xlabel('epoch')\n",
    "plt.legend(['train', 'val'], loc='upper left')\n",
    "plt.show()"
   ]
  },
  {
   "cell_type": "code",
   "execution_count": 150,
   "metadata": {},
   "outputs": [
    {
     "name": "stdout",
     "output_type": "stream",
     "text": [
      "4485/4485 [==============================] - ETA:  - 1s 256us/step\n",
      "(4485, 10)\n"
     ]
    }
   ],
   "source": [
    "# Prediction:\n",
    "y_predict = model.predict(X_test, verbose=1)\n",
    "print (y_predict.shape)"
   ]
  },
  {
   "cell_type": "code",
   "execution_count": 151,
   "metadata": {},
   "outputs": [
    {
     "name": "stdout",
     "output_type": "stream",
     "text": [
      "4485/4485 [==============================] - 1s 167us/step\n",
      "The accuracy is:  0.9701226309921962\n"
     ]
    }
   ],
   "source": [
    "# Evaluation:\n",
    "score = model.evaluate(X_test, y_test, verbose=1)\n",
    "print('The accuracy is: ', score[1])"
   ]
  },
  {
   "cell_type": "markdown",
   "metadata": {},
   "source": [
    "### Model 2"
   ]
  },
  {
   "cell_type": "code",
   "execution_count": 152,
   "metadata": {},
   "outputs": [],
   "source": [
    "model2 = Sequential()"
   ]
  },
  {
   "cell_type": "code",
   "execution_count": 153,
   "metadata": {},
   "outputs": [
    {
     "data": {
      "text/plain": [
       "(17939, 10)"
      ]
     },
     "execution_count": 153,
     "metadata": {},
     "output_type": "execute_result"
    }
   ],
   "source": [
    "X_train.shape\n",
    "y_train.shape"
   ]
  },
  {
   "cell_type": "code",
   "execution_count": 154,
   "metadata": {},
   "outputs": [],
   "source": [
    "input_size = 3072\n",
    "hidden_neurons = 500\n",
    "out_size = 10"
   ]
  },
  {
   "cell_type": "code",
   "execution_count": 155,
   "metadata": {},
   "outputs": [],
   "source": [
    "model2.add(Dense(hidden_neurons,input_dim = input_size))\n",
    "model2.add(Activation('sigmoid'))\n",
    "\n",
    "model2.add(Dense(out_size, input_dim = hidden_neurons))\n",
    "model2.add(Activation('softmax'))"
   ]
  },
  {
   "cell_type": "code",
   "execution_count": 156,
   "metadata": {},
   "outputs": [],
   "source": [
    "model2.compile(loss='categorical_crossentropy',metrics=['accuracy'],optimizer='Adam')"
   ]
  },
  {
   "cell_type": "code",
   "execution_count": 157,
   "metadata": {
    "scrolled": true
   },
   "outputs": [
    {
     "name": "stdout",
     "output_type": "stream",
     "text": [
      "Train on 12019 samples, validate on 5920 samples\n",
      "Epoch 1/20\n",
      "12019/12019 [==============================] - 6s 459us/step - loss: 2.3623 - acc: 0.2153 - val_loss: 1.9587 - val_acc: 0.3858\n",
      "Epoch 2/20\n",
      "12019/12019 [==============================] - 4s 306us/step - loss: 1.7209 - acc: 0.4740 - val_loss: 1.5433 - val_acc: 0.5510\n",
      "Epoch 3/20\n",
      "12019/12019 [==============================] - 4s 365us/step - loss: 1.3705 - acc: 0.6092 - val_loss: 1.2339 - val_acc: 0.6797\n",
      "Epoch 4/20\n",
      "12019/12019 [==============================] - 4s 316us/step - loss: 1.1034 - acc: 0.7399 - val_loss: 1.0388 - val_acc: 0.7258\n",
      "Epoch 5/20\n",
      "12019/12019 [==============================] - 4s 349us/step - loss: 0.9329 - acc: 0.7830 - val_loss: 0.8728 - val_acc: 0.8061\n",
      "Epoch 6/20\n",
      "12019/12019 [==============================] - 5s 392us/step - loss: 0.7773 - acc: 0.8348 - val_loss: 0.7636 - val_acc: 0.8188\n",
      "Epoch 7/20\n",
      "12019/12019 [==============================] - 4s 312us/step - loss: 0.6698 - acc: 0.8591 - val_loss: 0.6549 - val_acc: 0.8659\n",
      "Epoch 8/20\n",
      "12019/12019 [==============================] - 4s 340us/step - loss: 0.5764 - acc: 0.8894 - val_loss: 0.5894 - val_acc: 0.8713\n",
      "Epoch 9/20\n",
      "12019/12019 [==============================] - 4s 353us/step - loss: 0.5135 - acc: 0.9018 - val_loss: 0.5162 - val_acc: 0.8922\n",
      "Epoch 10/20\n",
      "12019/12019 [==============================] - 4s 316us/step - loss: 0.4581 - acc: 0.9085 - val_loss: 0.4632 - val_acc: 0.9042\n",
      "Epoch 11/20\n",
      "12019/12019 [==============================] - 4s 318us/step - loss: 0.4029 - acc: 0.9262 - val_loss: 0.4582 - val_acc: 0.8899\n",
      "Epoch 12/20\n",
      "12019/12019 [==============================] - 4s 361us/step - loss: 0.3841 - acc: 0.9259 - val_loss: 0.3919 - val_acc: 0.9280\n",
      "Epoch 13/20\n",
      "12019/12019 [==============================] - 4s 369us/step - loss: 0.3295 - acc: 0.9412 - val_loss: 0.3657 - val_acc: 0.9218\n",
      "Epoch 14/20\n",
      "12019/12019 [==============================] - 4s 350us/step - loss: 0.3015 - acc: 0.9458 - val_loss: 0.3311 - val_acc: 0.9326\n",
      "Epoch 15/20\n",
      "12019/12019 [==============================] - 4s 309us/step - loss: 0.2746 - acc: 0.9522 - val_loss: 0.3006 - val_acc: 0.9441\n",
      "Epoch 16/20\n",
      "12019/12019 [==============================] - 4s 307us/step - loss: 0.2483 - acc: 0.9565 - val_loss: 0.3000 - val_acc: 0.9373\n",
      "Epoch 17/20\n",
      "12019/12019 [==============================] - 4s 306us/step - loss: 0.2363 - acc: 0.9576 - val_loss: 0.2659 - val_acc: 0.9468\n",
      "Epoch 18/20\n",
      "12019/12019 [==============================] - 4s 319us/step - loss: 0.2137 - acc: 0.9635 - val_loss: 0.2681 - val_acc: 0.9461\n",
      "Epoch 19/20\n",
      "12019/12019 [==============================] - 4s 311us/step - loss: 0.1973 - acc: 0.9652 - val_loss: 0.2389 - val_acc: 0.9527\n",
      "Epoch 20/20\n",
      "12019/12019 [==============================] - 4s 308us/step - loss: 0.1853 - acc: 0.9687 - val_loss: 0.2293 - val_acc: 0.9498\n"
     ]
    }
   ],
   "source": [
    "fitted_model2 = model2.fit(X_train,y_train, validation_split=0.33, batch_size=512,epochs = 20,verbose=1)"
   ]
  },
  {
   "cell_type": "code",
   "execution_count": 158,
   "metadata": {},
   "outputs": [
    {
     "data": {
      "image/png": "[encoded data removed]",
      "text/plain": [
       "<Figure size 432x288 with 1 Axes>"
      ]
     },
     "metadata": {
      "needs_background": "light"
     },
     "output_type": "display_data"
    },
    {
     "data": {
      "image/png": "[encoded data removed]",
      "text/plain": [
       "<Figure size 432x288 with 1 Axes>"
      ]
     },
     "metadata": {
      "needs_background": "light"
     },
     "output_type": "display_data"
    }
   ],
   "source": [
    "\n",
    "\n",
    "# summarize history for accuracy\n",
    "plt.plot(fitted_model2.history['acc'])\n",
    "plt.plot(fitted_model2.history['val_acc'])\n",
    "plt.title('model accuracy')\n",
    "plt.ylabel('accuracy')\n",
    "plt.xlabel('epoch')\n",
    "plt.legend(['train', 'val'], loc='upper left')\n",
    "plt.show()\n",
    "\n",
    "# summarize history for loss\n",
    "plt.plot(fitted_model2.history['loss'])\n",
    "plt.plot(fitted_model2.history['val_loss'])\n",
    "plt.title('model loss')\n",
    "plt.ylabel('loss')\n",
    "plt.xlabel('epoch')\n",
    "plt.legend(['train', 'val'], loc='upper left')\n",
    "plt.show()"
   ]
  },
  {
   "cell_type": "code",
   "execution_count": 160,
   "metadata": {},
   "outputs": [
    {
     "name": "stdout",
     "output_type": "stream",
     "text": [
      "4485/4485 [==============================] - 1s 175us/step\n",
      "The accuracy is:  0.9569676700111482\n"
     ]
    }
   ],
   "source": [
    "# Evaluation:\n",
    "score2 = model2.evaluate(X_test, y_test, verbose=1)\n",
    "print('The accuracy is: ', score2[1])"
   ]
  },
  {
   "cell_type": "code",
   "execution_count": 184,
   "metadata": {},
   "outputs": [],
   "source": [
    "model3 = Sequential()"
   ]
  },
  {
   "cell_type": "code",
   "execution_count": 185,
   "metadata": {},
   "outputs": [
    {
     "data": {
      "text/plain": [
       "(17939, 10)"
      ]
     },
     "execution_count": 185,
     "metadata": {},
     "output_type": "execute_result"
    }
   ],
   "source": [
    "X_train.shape\n",
    "y_train.shape"
   ]
  },
  {
   "cell_type": "code",
   "execution_count": 186,
   "metadata": {},
   "outputs": [],
   "source": [
    "input_size = 3072\n",
    "hidden_neurons = 500\n",
    "out_size = 10"
   ]
  },
  {
   "cell_type": "code",
   "execution_count": 187,
   "metadata": {},
   "outputs": [],
   "source": [
    "model3.add(Dense(hidden_neurons,input_dim = input_size))\n",
    "model3.add(Activation('sigmoid'))\n",
    "\n",
    "model3.add(Dense(out_size, input_dim = hidden_neurons))\n",
    "model3.add(Activation('softmax'))"
   ]
  },
  {
   "cell_type": "code",
   "execution_count": 188,
   "metadata": {},
   "outputs": [],
   "source": [
    "model3.compile(loss='categorical_crossentropy',metrics=['accuracy'],optimizer='Adam')"
   ]
  },
  {
   "cell_type": "code",
   "execution_count": 189,
   "metadata": {
    "scrolled": true
   },
   "outputs": [
    {
     "name": "stdout",
     "output_type": "stream",
     "text": [
      "Train on 12019 samples, validate on 5920 samples\n",
      "Epoch 1/15\n",
      "12019/12019 [==============================] - 19s 2ms/step - loss: 1.4866 - acc: 0.5105 - val_loss: 0.9266 - val_acc: 0.7316\n",
      "Epoch 2/15\n",
      "12019/12019 [==============================] - 17s 1ms/step - loss: 0.6424 - acc: 0.8254 - val_loss: 0.4885 - val_acc: 0.8704\n",
      "Epoch 3/15\n",
      "12019/12019 [==============================] - 17s 1ms/step - loss: 0.3883 - acc: 0.8972 - val_loss: 0.4282 - val_acc: 0.8834\n",
      "Epoch 4/15\n",
      "12019/12019 [==============================] - 18s 1ms/step - loss: 0.2538 - acc: 0.9354 - val_loss: 0.3237 - val_acc: 0.9012\n",
      "Epoch 5/15\n",
      "12019/12019 [==============================] - 18s 1ms/step - loss: 0.1897 - acc: 0.9523 - val_loss: 0.1898 - val_acc: 0.9483\n",
      "Epoch 6/15\n",
      "12019/12019 [==============================] - 18s 1ms/step - loss: 0.1539 - acc: 0.9580 - val_loss: 0.1849 - val_acc: 0.9527\n",
      "Epoch 7/15\n",
      "12019/12019 [==============================] - 18s 1ms/step - loss: 0.1116 - acc: 0.9718 - val_loss: 0.1379 - val_acc: 0.9647\n",
      "Epoch 8/15\n",
      "12019/12019 [==============================] - 20s 2ms/step - loss: 0.0955 - acc: 0.9748 - val_loss: 0.1921 - val_acc: 0.9410\n",
      "Epoch 9/15\n",
      "12019/12019 [==============================] - 25s 2ms/step - loss: 0.0995 - acc: 0.9723 - val_loss: 0.1492 - val_acc: 0.9628: 0.978 - ETA: 6s - loss: 0.0819  - ETA: 6s - loss: 0.0832 -  - ETA: 1\n",
      "Epoch 10/15\n",
      "12019/12019 [==============================] - 19s 2ms/step - loss: 0.0794 - acc: 0.9784 - val_loss: 0.1229 - val_acc: 0.9674\n",
      "Epoch 11/15\n",
      "12019/12019 [==============================] - 18s 1ms/step - loss: 0.0506 - acc: 0.9866 - val_loss: 0.1338 - val_acc: 0.9623\n",
      "Epoch 12/15\n",
      "12019/12019 [==============================] - 18s 1ms/step - loss: 0.0478 - acc: 0.9869 - val_loss: 0.0788 - val_acc: 0.9816\n",
      "Epoch 13/15\n",
      "12019/12019 [==============================] - 19s 2ms/step - loss: 0.0584 - acc: 0.9840 - val_loss: 0.0727 - val_acc: 0.9836\n",
      "Epoch 14/15\n",
      "12019/12019 [==============================] - 18s 2ms/step - loss: 0.0362 - acc: 0.9916 - val_loss: 0.0735 - val_acc: 0.9816\n",
      "Epoch 15/15\n",
      "12019/12019 [==============================] - 17s 1ms/step - loss: 0.0467 - acc: 0.9878 - val_loss: 0.0891 - val_acc: 0.9772\n"
     ]
    }
   ],
   "source": [
    "fitted_model3 = model3.fit(X_train,y_train, validation_split=0.33, batch_size=32,epochs = 15,verbose=1)"
   ]
  },
  {
   "cell_type": "code",
   "execution_count": 190,
   "metadata": {},
   "outputs": [
    {
     "data": {
      "image/png": "[encoded data removed]",
      "text/plain": [
       "<Figure size 432x288 with 1 Axes>"
      ]
     },
     "metadata": {
      "needs_background": "light"
     },
     "output_type": "display_data"
    },
    {
     "data": {
      "image/png": "[encoded data removed]",
      "text/plain": [
       "<Figure size 432x288 with 1 Axes>"
      ]
     },
     "metadata": {
      "needs_background": "light"
     },
     "output_type": "display_data"
    }
   ],
   "source": [
    "\n",
    "\n",
    "# summarize history for accuracy\n",
    "plt.plot(fitted_model3.history['acc'])\n",
    "plt.plot(fitted_model3.history['val_acc'])\n",
    "plt.title('model accuracy')\n",
    "plt.ylabel('accuracy')\n",
    "plt.xlabel('epoch')\n",
    "plt.legend(['train', 'val'], loc='upper left')\n",
    "plt.show()\n",
    "\n",
    "# summarize history for loss\n",
    "plt.plot(fitted_model3.history['loss'])\n",
    "plt.plot(fitted_model3.history['val_loss'])\n",
    "plt.title('model loss')\n",
    "plt.ylabel('loss')\n",
    "plt.xlabel('epoch')\n",
    "plt.legend(['train', 'val'], loc='upper left')\n",
    "plt.show()"
   ]
  },
  {
   "cell_type": "code",
   "execution_count": 191,
   "metadata": {},
   "outputs": [
    {
     "name": "stdout",
     "output_type": "stream",
     "text": [
      "4485/4485 [==============================] - 1s 186us/step\n",
      "The accuracy is:  0.9768115942028985\n"
     ]
    }
   ],
   "source": [
    "# Evaluation:\n",
    "score3 = model3.evaluate(X_test, y_test, verbose=1)\n",
    "print('The accuracy is: ', score3[1])"
   ]
  },
  {
   "cell_type": "code",
   "execution_count": null,
   "metadata": {},
   "outputs": [],
   "source": [
    "### Model 3"
   ]
  }
 ],
 "metadata": {
  "kernelspec": {
   "display_name": "Python 3",
   "language": "python",
   "name": "python3"
  },
  "language_info": {
   "codemirror_mode": {
    "name": "ipython",
    "version": 3
   },
   "file_extension": ".py",
   "mimetype": "text/x-python",
   "name": "python",
   "nbconvert_exporter": "python",
   "pygments_lexer": "ipython3",
   "version": "3.6.8"
  }
 },
 "nbformat": 4,
 "nbformat_minor": 2
}
