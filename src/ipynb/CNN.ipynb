{
 "cells": [
  {
   "cell_type": "code",
   "execution_count": 1,
   "metadata": {},
   "outputs": [],
   "source": [
    "%matplotlib inline\n",
    "import numpy as np\n",
    "import pandas as pd\n",
    "import matplotlib.pyplot as plt"
   ]
  },
  {
   "cell_type": "code",
   "execution_count": 2,
   "metadata": {},
   "outputs": [
    {
     "name": "stderr",
     "output_type": "stream",
     "text": [
      "Using TensorFlow backend.\n"
     ]
    }
   ],
   "source": [
    "\n",
    "# \"Sequential\" model lets us to define a stack of neural network layers\n",
    "from keras.models import Sequential\n",
    "\n",
    "# import the \"core\" layers:\n",
    "from keras.layers import Dense, Dropout, Activation, Flatten\n",
    "\n",
    "# CNN\n",
    "from keras.layers import Convolution2D, MaxPooling2D\n",
    "\n",
    "# import some utilities to transform our data\n",
    "from keras.utils import np_utils"
   ]
  },
  {
   "cell_type": "code",
   "execution_count": 5,
   "metadata": {},
   "outputs": [],
   "source": [
    "label=pd.read_pickle('label')"
   ]
  },
  {
   "cell_type": "code",
   "execution_count": 6,
   "metadata": {},
   "outputs": [],
   "source": [
    "df_train=pd.read_pickle('trainDF')"
   ]
  },
  {
   "cell_type": "code",
   "execution_count": 7,
   "metadata": {},
   "outputs": [],
   "source": [
    "df_test=pd.read_pickle('testDF')"
   ]
  },
  {
   "cell_type": "markdown",
   "metadata": {},
   "source": [
    "## normalize "
   ]
  },
  {
   "cell_type": "code",
   "execution_count": 8,
   "metadata": {},
   "outputs": [],
   "source": [
    "df_train = df_train.astype('float32')\n",
    "df_test = df_train.astype('float32')\n",
    "\n",
    "df_train /= 255\n",
    "df_test /= 255"
   ]
  },
  {
   "cell_type": "code",
   "execution_count": 9,
   "metadata": {},
   "outputs": [
    {
     "name": "stdout",
     "output_type": "stream",
     "text": [
      "       0         1         2         3         4         5         6     \\\n",
      "0  0.231647  0.326392  0.172667  0.046824  0.163569  0.321882  0.487216   \n",
      "1  0.162824  0.166235  0.171490  0.169961  0.173373  0.176314  0.177412   \n",
      "2  0.189020  0.190275  0.192157  0.192157  0.196078  0.197725  0.199686   \n",
      "3  0.120157  0.120314  0.124078  0.128549  0.129412  0.125569  0.125294   \n",
      "4  0.046784  0.048353  0.056549  0.059098  0.056353  0.046745  0.344863   \n",
      "\n",
      "       7         8         9     ...      3062      3063      3064      3065  \\\n",
      "0  0.461804  0.403255  0.431059  ...  0.221137  0.228078  0.225647  0.197451   \n",
      "1  0.180353  0.181176  0.186431  ...  0.610274  0.136510  0.091804  0.172392   \n",
      "2  0.200275  0.205490  0.208902  ...  0.623294  0.141020  0.091490  0.247608   \n",
      "3  0.125490  0.129961  0.140196  ...  0.109216  0.137490  0.213529  0.281333   \n",
      "4  0.170118  0.097804  0.156274  ...  0.246118  0.239686  0.206196  0.107098   \n",
      "\n",
      "       3066      3067      3068      3069      3070      3071  \n",
      "0  0.070706  0.056627  0.059451  0.058706  0.047373  0.050667  \n",
      "1  0.249608  0.132627  0.045020  0.039098  0.037255  0.160784  \n",
      "2  0.228941  0.139020  0.048941  0.042510  0.038588  0.172353  \n",
      "3  0.261373  0.113529  0.031961  0.026784  0.030157  0.029333  \n",
      "4  0.032392  0.031373  0.030706  0.031725  0.040275  0.038039  \n",
      "\n",
      "[5 rows x 3072 columns]\n",
      "       0         1         2         3         4         5         6     \\\n",
      "0  0.231647  0.326392  0.172667  0.046824  0.163569  0.321882  0.487216   \n",
      "1  0.162824  0.166235  0.171490  0.169961  0.173373  0.176314  0.177412   \n",
      "2  0.189020  0.190275  0.192157  0.192157  0.196078  0.197725  0.199686   \n",
      "3  0.120157  0.120314  0.124078  0.128549  0.129412  0.125569  0.125294   \n",
      "4  0.046784  0.048353  0.056549  0.059098  0.056353  0.046745  0.344863   \n",
      "\n",
      "       7         8         9     ...      3062      3063      3064      3065  \\\n",
      "0  0.461804  0.403255  0.431059  ...  0.221137  0.228078  0.225647  0.197451   \n",
      "1  0.180353  0.181176  0.186431  ...  0.610274  0.136510  0.091804  0.172392   \n",
      "2  0.200275  0.205490  0.208902  ...  0.623294  0.141020  0.091490  0.247608   \n",
      "3  0.125490  0.129961  0.140196  ...  0.109216  0.137490  0.213529  0.281333   \n",
      "4  0.170118  0.097804  0.156274  ...  0.246118  0.239686  0.206196  0.107098   \n",
      "\n",
      "       3066      3067      3068      3069      3070      3071  \n",
      "0  0.070706  0.056627  0.059451  0.058706  0.047373  0.050667  \n",
      "1  0.249608  0.132627  0.045020  0.039098  0.037255  0.160784  \n",
      "2  0.228941  0.139020  0.048941  0.042510  0.038588  0.172353  \n",
      "3  0.261373  0.113529  0.031961  0.026784  0.030157  0.029333  \n",
      "4  0.032392  0.031373  0.030706  0.031725  0.040275  0.038039  \n",
      "\n",
      "[5 rows x 3072 columns]\n"
     ]
    }
   ],
   "source": [
    "print(df_train.head())\n",
    "print(df_test.head())"
   ]
  },
  {
   "cell_type": "code",
   "execution_count": 12,
   "metadata": {},
   "outputs": [
    {
     "name": "stdout",
     "output_type": "stream",
     "text": [
      "0        0\n",
      "1000     0\n",
      "2000     0\n",
      "3000     1\n",
      "4000     1\n",
      "5000     2\n",
      "6000     2\n",
      "7000     2\n",
      "8000     3\n",
      "9000     3\n",
      "10000    4\n",
      "11000    4\n",
      "12000    5\n",
      "13000    5\n",
      "14000    5\n",
      "15000    6\n",
      "16000    6\n",
      "17000    7\n",
      "18000    7\n",
      "19000    8\n",
      "20000    8\n",
      "21000    9\n",
      "22000    9\n",
      "Name: label, dtype: int64\n"
     ]
    }
   ],
   "source": [
    "print(label[0::1000])"
   ]
  },
  {
   "cell_type": "markdown",
   "metadata": {},
   "source": [
    "### Define model"
   ]
  },
  {
   "cell_type": "code",
   "execution_count": 13,
   "metadata": {},
   "outputs": [],
   "source": [
    "model = Sequential()"
   ]
  },
  {
   "cell_type": "code",
   "execution_count": null,
   "metadata": {},
   "outputs": [],
   "source": []
  }
 ],
 "metadata": {
  "kernelspec": {
   "display_name": "Python 3",
   "language": "python",
   "name": "python3"
  },
  "language_info": {
   "codemirror_mode": {
    "name": "ipython",
    "version": 3
   },
   "file_extension": ".py",
   "mimetype": "text/x-python",
   "name": "python",
   "nbconvert_exporter": "python",
   "pygments_lexer": "ipython3",
   "version": "3.6.8"
  }
 },
 "nbformat": 4,
 "nbformat_minor": 2
}
